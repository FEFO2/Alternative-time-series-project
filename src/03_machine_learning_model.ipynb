{
    "cells": [
        {
            "cell_type": "markdown",
            "metadata": {},
            "source": [
                "# 3. Machine Learning Model\n",
                "---"
            ]
        },
        {
            "cell_type": "code",
            "execution_count": 45,
            "metadata": {},
            "outputs": [],
            "source": [
                "import pandas as pd\n",
                "from statsmodels.tsa.seasonal import seasonal_decompose\n",
                "\n",
                "total_data = pd.read_csv(r'../data/processed/total_sales.csv')"
            ]
        },
        {
            "cell_type": "code",
            "execution_count": 46,
            "metadata": {},
            "outputs": [
                {
                    "name": "stdout",
                    "output_type": "stream",
                    "text": [
                        "Performing stepwise search to minimize aic\n",
                        " ARIMA(2,1,2)(1,0,1)[12] intercept   : AIC=1847.127, Time=0.85 sec\n",
                        " ARIMA(0,1,0)(0,0,0)[12] intercept   : AIC=2096.542, Time=0.01 sec\n",
                        " ARIMA(1,1,0)(1,0,0)[12] intercept   : AIC=1972.853, Time=0.11 sec\n",
                        " ARIMA(0,1,1)(0,0,1)[12] intercept   : AIC=inf, Time=0.40 sec\n",
                        " ARIMA(0,1,0)(0,0,0)[12]             : AIC=2209.657, Time=0.01 sec\n",
                        " ARIMA(2,1,2)(0,0,1)[12] intercept   : AIC=1844.705, Time=0.71 sec\n",
                        " ARIMA(2,1,2)(0,0,0)[12] intercept   : AIC=1843.274, Time=0.33 sec\n",
                        " ARIMA(2,1,2)(1,0,0)[12] intercept   : AIC=1845.092, Time=0.65 sec\n",
                        " ARIMA(1,1,2)(0,0,0)[12] intercept   : AIC=1843.586, Time=0.11 sec\n",
                        " ARIMA(2,1,1)(0,0,0)[12] intercept   : AIC=1841.532, Time=0.24 sec\n",
                        " ARIMA(2,1,1)(1,0,0)[12] intercept   : AIC=1843.435, Time=0.97 sec\n",
                        " ARIMA(2,1,1)(0,0,1)[12] intercept   : AIC=1843.433, Time=0.63 sec\n",
                        " ARIMA(2,1,1)(1,0,1)[12] intercept   : AIC=inf, Time=0.83 sec\n",
                        " ARIMA(1,1,1)(0,0,0)[12] intercept   : AIC=1839.552, Time=0.12 sec\n",
                        " ARIMA(1,1,1)(1,0,0)[12] intercept   : AIC=1841.456, Time=0.42 sec\n",
                        " ARIMA(1,1,1)(0,0,1)[12] intercept   : AIC=1841.455, Time=0.35 sec\n",
                        " ARIMA(1,1,1)(1,0,1)[12] intercept   : AIC=1843.455, Time=0.52 sec\n",
                        " ARIMA(0,1,1)(0,0,0)[12] intercept   : AIC=1839.586, Time=0.06 sec\n",
                        " ARIMA(1,1,0)(0,0,0)[12] intercept   : AIC=1970.972, Time=0.03 sec\n",
                        " ARIMA(0,1,2)(0,0,0)[12] intercept   : AIC=1839.607, Time=0.10 sec\n",
                        " ARIMA(2,1,0)(0,0,0)[12] intercept   : AIC=1922.648, Time=0.04 sec\n",
                        " ARIMA(1,1,1)(0,0,0)[12]             : AIC=inf, Time=0.17 sec\n",
                        "\n",
                        "Best model:  ARIMA(1,1,1)(0,0,0)[12] intercept\n",
                        "Total fit time: 7.667 seconds\n"
                    ]
                }
            ],
            "source": [
                "from pmdarima import auto_arima\n",
                "model = auto_arima(total_data, seasonal = True, trace = True, m = 12)"
            ]
        },
        {
            "cell_type": "code",
            "execution_count": 47,
            "metadata": {},
            "outputs": [
                {
                    "data": {
                        "text/html": [
                            "<table class=\"simpletable\">\n",
                            "<caption>SARIMAX Results</caption>\n",
                            "<tr>\n",
                            "  <th>Dep. Variable:</th>           <td>y</td>        <th>  No. Observations:  </th>    <td>366</td>  \n",
                            "</tr>\n",
                            "<tr>\n",
                            "  <th>Model:</th>           <td>SARIMAX(1, 1, 1)</td> <th>  Log Likelihood     </th> <td>-915.776</td>\n",
                            "</tr>\n",
                            "<tr>\n",
                            "  <th>Date:</th>            <td>Tue, 23 Jan 2024</td> <th>  AIC                </th> <td>1839.552</td>\n",
                            "</tr>\n",
                            "<tr>\n",
                            "  <th>Time:</th>                <td>20:32:59</td>     <th>  BIC                </th> <td>1855.152</td>\n",
                            "</tr>\n",
                            "<tr>\n",
                            "  <th>Sample:</th>                  <td>0</td>        <th>  HQIC               </th> <td>1845.752</td>\n",
                            "</tr>\n",
                            "<tr>\n",
                            "  <th></th>                      <td> - 366</td>      <th>                     </th>     <td> </td>   \n",
                            "</tr>\n",
                            "<tr>\n",
                            "  <th>Covariance Type:</th>        <td>opg</td>       <th>                     </th>     <td> </td>   \n",
                            "</tr>\n",
                            "</table>\n",
                            "<table class=\"simpletable\">\n",
                            "<tr>\n",
                            "      <td></td>         <th>coef</th>     <th>std err</th>      <th>z</th>      <th>P>|z|</th>  <th>[0.025</th>    <th>0.975]</th>  \n",
                            "</tr>\n",
                            "<tr>\n",
                            "  <th>intercept</th> <td>    2.8110</td> <td>    0.134</td> <td>   21.055</td> <td> 0.000</td> <td>    2.549</td> <td>    3.073</td>\n",
                            "</tr>\n",
                            "<tr>\n",
                            "  <th>ar.L1</th>     <td>   -0.0821</td> <td>    0.052</td> <td>   -1.592</td> <td> 0.111</td> <td>   -0.183</td> <td>    0.019</td>\n",
                            "</tr>\n",
                            "<tr>\n",
                            "  <th>ma.L1</th>     <td>   -0.9413</td> <td>    0.020</td> <td>  -47.701</td> <td> 0.000</td> <td>   -0.980</td> <td>   -0.903</td>\n",
                            "</tr>\n",
                            "<tr>\n",
                            "  <th>sigma2</th>    <td>    8.7903</td> <td>    0.688</td> <td>   12.777</td> <td> 0.000</td> <td>    7.442</td> <td>   10.139</td>\n",
                            "</tr>\n",
                            "</table>\n",
                            "<table class=\"simpletable\">\n",
                            "<tr>\n",
                            "  <th>Ljung-Box (L1) (Q):</th>     <td>0.00</td> <th>  Jarque-Bera (JB):  </th> <td>0.76</td>\n",
                            "</tr>\n",
                            "<tr>\n",
                            "  <th>Prob(Q):</th>                <td>1.00</td> <th>  Prob(JB):          </th> <td>0.68</td>\n",
                            "</tr>\n",
                            "<tr>\n",
                            "  <th>Heteroskedasticity (H):</th> <td>0.90</td> <th>  Skew:              </th> <td>0.07</td>\n",
                            "</tr>\n",
                            "<tr>\n",
                            "  <th>Prob(H) (two-sided):</th>    <td>0.58</td> <th>  Kurtosis:          </th> <td>2.82</td>\n",
                            "</tr>\n",
                            "</table><br/><br/>Warnings:<br/>[1] Covariance matrix calculated using the outer product of gradients (complex-step)."
                        ],
                        "text/latex": [
                            "\\begin{center}\n",
                            "\\begin{tabular}{lclc}\n",
                            "\\toprule\n",
                            "\\textbf{Dep. Variable:}          &        y         & \\textbf{  No. Observations:  } &    366      \\\\\n",
                            "\\textbf{Model:}                  & SARIMAX(1, 1, 1) & \\textbf{  Log Likelihood     } &  -915.776   \\\\\n",
                            "\\textbf{Date:}                   & Tue, 23 Jan 2024 & \\textbf{  AIC                } &  1839.552   \\\\\n",
                            "\\textbf{Time:}                   &     20:32:59     & \\textbf{  BIC                } &  1855.152   \\\\\n",
                            "\\textbf{Sample:}                 &        0         & \\textbf{  HQIC               } &  1845.752   \\\\\n",
                            "\\textbf{}                        &       - 366      & \\textbf{                     } &             \\\\\n",
                            "\\textbf{Covariance Type:}        &       opg        & \\textbf{                     } &             \\\\\n",
                            "\\bottomrule\n",
                            "\\end{tabular}\n",
                            "\\begin{tabular}{lcccccc}\n",
                            "                   & \\textbf{coef} & \\textbf{std err} & \\textbf{z} & \\textbf{P$> |$z$|$} & \\textbf{[0.025} & \\textbf{0.975]}  \\\\\n",
                            "\\midrule\n",
                            "\\textbf{intercept} &       2.8110  &        0.134     &    21.055  &         0.000        &        2.549    &        3.073     \\\\\n",
                            "\\textbf{ar.L1}     &      -0.0821  &        0.052     &    -1.592  &         0.111        &       -0.183    &        0.019     \\\\\n",
                            "\\textbf{ma.L1}     &      -0.9413  &        0.020     &   -47.701  &         0.000        &       -0.980    &       -0.903     \\\\\n",
                            "\\textbf{sigma2}    &       8.7903  &        0.688     &    12.777  &         0.000        &        7.442    &       10.139     \\\\\n",
                            "\\bottomrule\n",
                            "\\end{tabular}\n",
                            "\\begin{tabular}{lclc}\n",
                            "\\textbf{Ljung-Box (L1) (Q):}     & 0.00 & \\textbf{  Jarque-Bera (JB):  } & 0.76  \\\\\n",
                            "\\textbf{Prob(Q):}                & 1.00 & \\textbf{  Prob(JB):          } & 0.68  \\\\\n",
                            "\\textbf{Heteroskedasticity (H):} & 0.90 & \\textbf{  Skew:              } & 0.07  \\\\\n",
                            "\\textbf{Prob(H) (two-sided):}    & 0.58 & \\textbf{  Kurtosis:          } & 2.82  \\\\\n",
                            "\\bottomrule\n",
                            "\\end{tabular}\n",
                            "%\\caption{SARIMAX Results}\n",
                            "\\end{center}\n",
                            "\n",
                            "Warnings: \\newline\n",
                            " [1] Covariance matrix calculated using the outer product of gradients (complex-step)."
                        ],
                        "text/plain": [
                            "<class 'statsmodels.iolib.summary.Summary'>\n",
                            "\"\"\"\n",
                            "                               SARIMAX Results                                \n",
                            "==============================================================================\n",
                            "Dep. Variable:                      y   No. Observations:                  366\n",
                            "Model:               SARIMAX(1, 1, 1)   Log Likelihood                -915.776\n",
                            "Date:                Tue, 23 Jan 2024   AIC                           1839.552\n",
                            "Time:                        20:32:59   BIC                           1855.152\n",
                            "Sample:                             0   HQIC                          1845.752\n",
                            "                                - 366                                         \n",
                            "Covariance Type:                  opg                                         \n",
                            "==============================================================================\n",
                            "                 coef    std err          z      P>|z|      [0.025      0.975]\n",
                            "------------------------------------------------------------------------------\n",
                            "intercept      2.8110      0.134     21.055      0.000       2.549       3.073\n",
                            "ar.L1         -0.0821      0.052     -1.592      0.111      -0.183       0.019\n",
                            "ma.L1         -0.9413      0.020    -47.701      0.000      -0.980      -0.903\n",
                            "sigma2         8.7903      0.688     12.777      0.000       7.442      10.139\n",
                            "===================================================================================\n",
                            "Ljung-Box (L1) (Q):                   0.00   Jarque-Bera (JB):                 0.76\n",
                            "Prob(Q):                              1.00   Prob(JB):                         0.68\n",
                            "Heteroskedasticity (H):               0.90   Skew:                             0.07\n",
                            "Prob(H) (two-sided):                  0.58   Kurtosis:                         2.82\n",
                            "===================================================================================\n",
                            "\n",
                            "Warnings:\n",
                            "[1] Covariance matrix calculated using the outer product of gradients (complex-step).\n",
                            "\"\"\""
                        ]
                    },
                    "execution_count": 47,
                    "metadata": {},
                    "output_type": "execute_result"
                }
            ],
            "source": [
                "model.summary()"
            ]
        },
        {
            "cell_type": "code",
            "execution_count": 50,
            "metadata": {},
            "outputs": [
                {
                    "data": {
                        "text/plain": [
                            "366    1002.158148\n",
                            "367    1004.831669\n",
                            "368    1007.423289\n",
                            "369    1010.021630\n",
                            "370    1012.619419\n",
                            "371    1015.217254\n",
                            "372    1017.815084\n",
                            "373    1020.412915\n",
                            "374    1023.010746\n",
                            "375    1025.608577\n",
                            "376    1028.206409\n",
                            "377    1030.804240\n",
                            "378    1033.402071\n",
                            "379    1035.999902\n",
                            "380    1038.597733\n",
                            "381    1041.195564\n",
                            "382    1043.793395\n",
                            "383    1046.391226\n",
                            "384    1048.989057\n",
                            "385    1051.586888\n",
                            "386    1054.184719\n",
                            "387    1056.782550\n",
                            "388    1059.380381\n",
                            "389    1061.978212\n",
                            "390    1064.576043\n",
                            "391    1067.173874\n",
                            "392    1069.771705\n",
                            "393    1072.369536\n",
                            "394    1074.967367\n",
                            "395    1077.565198\n",
                            "dtype: float64"
                        ]
                    },
                    "execution_count": 50,
                    "metadata": {},
                    "output_type": "execute_result"
                }
            ],
            "source": [
                "forecast = model.predict(30)\n",
                "forecast"
            ]
        },
        {
            "cell_type": "code",
            "execution_count": 51,
            "metadata": {},
            "outputs": [
                {
                    "data": {
                        "image/png": "[encoded data removed]",
                        "text/plain": [
                            "<Figure size 1000x500 with 1 Axes>"
                        ]
                    },
                    "metadata": {},
                    "output_type": "display_data"
                }
            ],
            "source": [
                "import matplotlib.pyplot as plt\n",
                "import seaborn as sns\n",
                "\n",
                "fig, axis = plt.subplots(figsize = (10, 5))\n",
                "sns.lineplot(data = total_data)\n",
                "sns.lineplot(data = forecast, c = \"green\")\n",
                "plt.tight_layout()\n",
                "plt.show()"
            ]
        },
        {
            "cell_type": "code",
            "execution_count": 52,
            "metadata": {},
            "outputs": [],
            "source": [
                "from pickle import dump\n",
                "dump(model, open(\"../models/time-series_ARIMA-1-1-1.sav\", \"wb\"))"
            ]
        },
        {
            "cell_type": "markdown",
            "metadata": {},
            "source": [
                "The model seems to predict the sales with accuracy."
            ]
        }
    ],
    "metadata": {
        "kernelspec": {
            "display_name": "Python 3.8.13 64-bit ('3.8.13')",
            "language": "python",
            "name": "python3"
        },
        "language_info": {
            "codemirror_mode": {
                "name": "ipython",
                "version": 3
            },
            "file_extension": ".py",
            "mimetype": "text/x-python",
            "name": "python",
            "nbconvert_exporter": "python",
            "pygments_lexer": "ipython3",
            "version": "3.11.5"
        },
        "orig_nbformat": 4,
        "vscode": {
            "interpreter": {
                "hash": "110cc1dee26208153f2972f08a2ad52b6a56238dc66d48e87fb757ef2996db56"
            }
        }
    },
    "nbformat": 4,
    "nbformat_minor": 2
}
